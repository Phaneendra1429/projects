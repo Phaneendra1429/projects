{
 "cells": [
  {
   "cell_type": "code",
   "execution_count": 1,
   "id": "809d2eb6",
   "metadata": {},
   "outputs": [],
   "source": [
    "from ibm_watson import SpeechToTextV1, LanguageTranslatorV3\n",
    "from ibm_cloud_sdk_core.authenticators import IAMAuthenticator"
   ]
  },
  {
   "cell_type": "code",
   "execution_count": 2,
   "id": "0d67cc37",
   "metadata": {},
   "outputs": [],
   "source": [
    "apikey = 'BXNpKeK3lZiXd4Qt9c1px-bdd8KdKczDd-_s7evg8NdW'\n",
    "url = 'https://api.eu-gb.speech-to-text.watson.cloud.ibm.com/instances/5cab6a6a-4378-4939-bb98-b2856b799cdb'"
   ]
  },
  {
   "cell_type": "code",
   "execution_count": 3,
   "id": "23157f28",
   "metadata": {},
   "outputs": [],
   "source": [
    "ltapikey = 'Ag8KUQYwtAvPUuS2d11WdqB_ukYA8h-oBLL-NMjdlNY-'\n",
    "lturl = 'https://api.eu-gb.language-translator.watson.cloud.ibm.com/instances/05239006-f18d-413a-a4ab-ede36f8b94fa'"
   ]
  },
  {
   "cell_type": "code",
   "execution_count": 4,
   "id": "227d5735",
   "metadata": {},
   "outputs": [],
   "source": [
    "authenticator = IAMAuthenticator(apikey)\n",
    "stt = SpeechToTextV1(authenticator=authenticator)\n",
    "stt.set_service_url(url)"
   ]
  },
  {
   "cell_type": "code",
   "execution_count": 5,
   "id": "9681fc08",
   "metadata": {},
   "outputs": [],
   "source": [
    "ltauthenticator = IAMAuthenticator(ltapikey)\n",
    "lt = LanguageTranslatorV3(version='2018-05-01', authenticator=ltauthenticator)\n",
    "lt.set_service_url(lturl)\n"
   ]
  },
  {
   "cell_type": "code",
   "execution_count": 6,
   "id": "20604302",
   "metadata": {},
   "outputs": [],
   "source": [
    "with open('speech.mp3', 'rb') as f:\n",
    "    res = stt.recognize(audio=f, content_type='audio/mp3', model='en-US_NarrowbandModel').get_result()"
   ]
  },
  {
   "cell_type": "code",
   "execution_count": 7,
   "id": "041893d3",
   "metadata": {},
   "outputs": [
    {
     "data": {
      "text/plain": [
       "{'result_index': 0,\n",
       " 'results': [{'final': True,\n",
       "   'alternatives': [{'transcript': 'hello world ', 'confidence': 0.99}]}]}"
      ]
     },
     "execution_count": 7,
     "metadata": {},
     "output_type": "execute_result"
    }
   ],
   "source": [
    "res"
   ]
  },
  {
   "cell_type": "code",
   "execution_count": 8,
   "id": "d976de37",
   "metadata": {},
   "outputs": [
    {
     "data": {
      "text/plain": [
       "'hello world '"
      ]
     },
     "execution_count": 8,
     "metadata": {},
     "output_type": "execute_result"
    }
   ],
   "source": [
    "text = res['results'][0]['alternatives'][0]['transcript']\n",
    "text"
   ]
  },
  {
   "cell_type": "code",
   "execution_count": 9,
   "id": "96602380",
   "metadata": {},
   "outputs": [],
   "source": [
    "hindi = 'en-hi'\n",
    "tamil='en-ta'\n",
    "telugu='en-te'\n"
   ]
  },
  {
   "cell_type": "code",
   "execution_count": 10,
   "id": "a7f38375",
   "metadata": {},
   "outputs": [],
   "source": [
    "translation = lt.translate(text=text, model_id=hindi).get_result()\n"
   ]
  },
  {
   "cell_type": "code",
   "execution_count": 11,
   "id": "33ee5bc0",
   "metadata": {},
   "outputs": [
    {
     "data": {
      "text/plain": [
       "'हेलो वर्ल्ड '"
      ]
     },
     "execution_count": 11,
     "metadata": {},
     "output_type": "execute_result"
    }
   ],
   "source": [
    "translatedtext = translation['translations'][0]['translation']\n",
    "translatedtext"
   ]
  },
  {
   "cell_type": "code",
   "execution_count": 12,
   "id": "b75df079",
   "metadata": {},
   "outputs": [
    {
     "data": {
      "text/plain": [
       "{'translations': [{'translation': 'ஹலோ உலகம் '}],\n",
       " 'word_count': 3,\n",
       " 'character_count': 12}"
      ]
     },
     "execution_count": 12,
     "metadata": {},
     "output_type": "execute_result"
    }
   ],
   "source": [
    "translation2 = lt.translate(text=text, model_id=tamil).get_result()\n",
    "translation2"
   ]
  },
  {
   "cell_type": "code",
   "execution_count": 13,
   "id": "42550dd4",
   "metadata": {},
   "outputs": [
    {
     "data": {
      "text/plain": [
       "'ஹலோ உலகம் '"
      ]
     },
     "execution_count": 13,
     "metadata": {},
     "output_type": "execute_result"
    }
   ],
   "source": [
    "translatedtext = translation2['translations'][0]['translation']\n",
    "translatedtext"
   ]
  },
  {
   "cell_type": "code",
   "execution_count": 14,
   "id": "71e147d2",
   "metadata": {},
   "outputs": [
    {
     "data": {
      "text/plain": [
       "{'translations': [{'translation': 'Hello world. '}],\n",
       " 'word_count': 3,\n",
       " 'character_count': 12}"
      ]
     },
     "execution_count": 14,
     "metadata": {},
     "output_type": "execute_result"
    }
   ],
   "source": [
    "translation3 = lt.translate(text=text, model_id=telugu).get_result()\n",
    "translation3"
   ]
  },
  {
   "cell_type": "code",
   "execution_count": 15,
   "id": "991e0787",
   "metadata": {},
   "outputs": [
    {
     "data": {
      "text/plain": [
       "'Hello world. '"
      ]
     },
     "execution_count": 15,
     "metadata": {},
     "output_type": "execute_result"
    }
   ],
   "source": [
    "translatedtext = translation3['translations'][0]['translation']\n",
    "translatedtext"
   ]
  },
  {
   "cell_type": "code",
   "execution_count": 16,
   "id": "b2a024b5",
   "metadata": {},
   "outputs": [
    {
     "data": {
      "text/plain": [
       "'hello world '"
      ]
     },
     "execution_count": 16,
     "metadata": {},
     "output_type": "execute_result"
    }
   ],
   "source": [
    "text"
   ]
  },
  {
   "cell_type": "code",
   "execution_count": 17,
   "id": "9a672d92",
   "metadata": {},
   "outputs": [],
   "source": [
    "with open('text.mp3', 'rb') as f:\n",
    "    res = stt.recognize(audio=f, content_type='audio/mp3', model='en-AU_NarrowbandModel').get_result()"
   ]
  },
  {
   "cell_type": "code",
   "execution_count": 18,
   "id": "2d5e0572",
   "metadata": {},
   "outputs": [
    {
     "data": {
      "text/plain": [
       "{'result_index': 0,\n",
       " 'results': [{'final': True,\n",
       "   'alternatives': [{'transcript': 'R. N. refers to the short term memory here the network are connected to themselves through time for the whole concept of short term memory if we relate with human brain cerebrum has four lobes frontal lowball red and they are networks with loops in them allowing information to protest our ends to a variety of problems speech recognition language modelling ',\n",
       "     'confidence': 0.91}]}]}"
      ]
     },
     "execution_count": 18,
     "metadata": {},
     "output_type": "execute_result"
    }
   ],
   "source": [
    "res"
   ]
  },
  {
   "cell_type": "code",
   "execution_count": 20,
   "id": "397d0679",
   "metadata": {},
   "outputs": [
    {
     "data": {
      "text/plain": [
       "'R. N. refers to the short term memory here the network are connected to themselves through time for the whole concept of short term memory if we relate with human brain cerebrum has four lobes frontal lowball red and they are networks with loops in them allowing information to protest our ends to a variety of problems speech recognition language modelling '"
      ]
     },
     "execution_count": 20,
     "metadata": {},
     "output_type": "execute_result"
    }
   ],
   "source": [
    "text1= res['results'][0]['alternatives'][0]['transcript']\n",
    "text1"
   ]
  },
  {
   "cell_type": "code",
   "execution_count": 21,
   "id": "54cba06f",
   "metadata": {},
   "outputs": [],
   "source": [
    "translation4 = lt.translate(text=text1, model_id=hindi).get_result()"
   ]
  },
  {
   "cell_type": "code",
   "execution_count": 22,
   "id": "1dd98d50",
   "metadata": {},
   "outputs": [
    {
     "data": {
      "text/plain": [
       "{'translations': [{'translation': 'आर. एन. एन. द्वारा संक्षिप्त शब्द स्मृति को संदर्भित करता है कि यदि हम मानव मस्तिष्क के साथ संबंध रखते हैं तो समय के माध्यम से स्वयं को समय के माध्यम से जोड़ा जाता है, यदि हम मानव मस्तिष्क मस्तिष्क के साथ संबंध रखते हैं तो चार खण्ड सामने की कम होती है और वे नेटवर्क के साथ संपर्क कर रहे हैं और उनमें प्रवेश करने के लिए सूचना का आदान-प्रदान करने के लिए सूचना प्रदान करने की अनुमति देते हैं, भाषा मॉडलिंग '}],\n",
       " 'word_count': 61,\n",
       " 'character_count': 358}"
      ]
     },
     "execution_count": 22,
     "metadata": {},
     "output_type": "execute_result"
    }
   ],
   "source": [
    "translation4 "
   ]
  },
  {
   "cell_type": "code",
   "execution_count": 23,
   "id": "31e6ce94",
   "metadata": {},
   "outputs": [],
   "source": [
    "translation5 = lt.translate(text=text1, model_id=telugu).get_result()"
   ]
  },
  {
   "cell_type": "code",
   "execution_count": 24,
   "id": "c1df75cf",
   "metadata": {},
   "outputs": [
    {
     "data": {
      "text/plain": [
       "{'translations': [{'translation': 'ఆర్. ఎన్. ఎన్. ఎన్. ఎన్ (ర్. ఎన్. ఎన్. ఎన్. ఎన్. ఎన్. ఎన్. ఎన్. ఎన్. ఆర్. ఎన్. ఆర్. ఎన్. ఎన్. ఎన్. ఎన్. సి. ఎస్. '}],\n",
       " 'word_count': 62,\n",
       " 'character_count': 358}"
      ]
     },
     "execution_count": 24,
     "metadata": {},
     "output_type": "execute_result"
    }
   ],
   "source": [
    "translation5 "
   ]
  },
  {
   "cell_type": "code",
   "execution_count": 25,
   "id": "5c7ff11e",
   "metadata": {},
   "outputs": [],
   "source": [
    "translation6 = lt.translate(text=text1, model_id=tamil).get_result()"
   ]
  },
  {
   "cell_type": "code",
   "execution_count": 26,
   "id": "f6b00b9d",
   "metadata": {},
   "outputs": [
    {
     "data": {
      "text/plain": [
       "{'translations': [{'translation': 'ஆர். என். எம். எஸ். எஸ். எஸ். எஸ். எஸ். எஸ். எஸ். எஸ். எஸ். எஸ். டபிள்யூ! '}],\n",
       " 'word_count': 62,\n",
       " 'character_count': 358}"
      ]
     },
     "execution_count": 26,
     "metadata": {},
     "output_type": "execute_result"
    }
   ],
   "source": [
    "translation6"
   ]
  },
  {
   "cell_type": "code",
   "execution_count": null,
   "id": "3f911b65",
   "metadata": {},
   "outputs": [],
   "source": []
  }
 ],
 "metadata": {
  "kernelspec": {
   "display_name": "Python 3",
   "language": "python",
   "name": "python3"
  },
  "language_info": {
   "codemirror_mode": {
    "name": "ipython",
    "version": 3
   },
   "file_extension": ".py",
   "mimetype": "text/x-python",
   "name": "python",
   "nbconvert_exporter": "python",
   "pygments_lexer": "ipython3",
   "version": "3.8.8"
  }
 },
 "nbformat": 4,
 "nbformat_minor": 5
}
