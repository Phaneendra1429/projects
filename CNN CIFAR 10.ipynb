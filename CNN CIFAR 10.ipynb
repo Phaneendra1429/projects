{
 "cells": [
  {
   "cell_type": "code",
   "execution_count": 1,
   "id": "f82cf6af",
   "metadata": {},
   "outputs": [],
   "source": [
    "\n",
    "import tensorflow as tf\n",
    "from tensorflow.keras import datasets, layers, models\n",
    "import matplotlib.pyplot as plt\n",
    "import numpy as np\n",
    "\n"
   ]
  },
  {
   "cell_type": "code",
   "execution_count": 2,
   "id": "c184cb26",
   "metadata": {},
   "outputs": [
    {
     "name": "stdout",
     "output_type": "stream",
     "text": [
      "Downloading data from https://www.cs.toronto.edu/~kriz/cifar-10-python.tar.gz\n",
      "170500096/170498071 [==============================] - 188s 1us/step\n",
      "170508288/170498071 [==============================] - 188s 1us/step\n"
     ]
    },
    {
     "data": {
      "text/plain": [
       "(50000, 32, 32, 3)"
      ]
     },
     "execution_count": 2,
     "metadata": {},
     "output_type": "execute_result"
    }
   ],
   "source": [
    "(X_train, y_train), (X_test,y_test) = datasets.cifar10.load_data()\n",
    "X_train.shape"
   ]
  },
  {
   "cell_type": "code",
   "execution_count": 3,
   "id": "442a5e3e",
   "metadata": {},
   "outputs": [
    {
     "data": {
      "text/plain": [
       "(10000, 32, 32, 3)"
      ]
     },
     "execution_count": 3,
     "metadata": {},
     "output_type": "execute_result"
    }
   ],
   "source": [
    "X_test.shape"
   ]
  },
  {
   "cell_type": "code",
   "execution_count": 5,
   "id": "be76d67d",
   "metadata": {},
   "outputs": [
    {
     "data": {
      "text/plain": [
       "(50000, 1)"
      ]
     },
     "execution_count": 5,
     "metadata": {},
     "output_type": "execute_result"
    }
   ],
   "source": [
    "y_train.shape\n"
   ]
  },
  {
   "cell_type": "code",
   "execution_count": 6,
   "id": "520c1a55",
   "metadata": {},
   "outputs": [
    {
     "data": {
      "text/plain": [
       "(10000, 1)"
      ]
     },
     "execution_count": 6,
     "metadata": {},
     "output_type": "execute_result"
    }
   ],
   "source": [
    "y_test.shape"
   ]
  },
  {
   "cell_type": "code",
   "execution_count": 7,
   "id": "27f15a3b",
   "metadata": {},
   "outputs": [
    {
     "data": {
      "text/plain": [
       "array([[6],\n",
       "       [9],\n",
       "       [9],\n",
       "       [4],\n",
       "       [1]], dtype=uint8)"
      ]
     },
     "execution_count": 7,
     "metadata": {},
     "output_type": "execute_result"
    }
   ],
   "source": [
    "y_train[:5]\n"
   ]
  },
  {
   "cell_type": "code",
   "execution_count": 8,
   "id": "4cf02476",
   "metadata": {},
   "outputs": [
    {
     "data": {
      "text/plain": [
       "array([6, 9, 9, 4, 1], dtype=uint8)"
      ]
     },
     "execution_count": 8,
     "metadata": {},
     "output_type": "execute_result"
    }
   ],
   "source": [
    "\n",
    "y_train = y_train.reshape(-1,)\n",
    "y_train[:5]"
   ]
  },
  {
   "cell_type": "code",
   "execution_count": 10,
   "id": "05d5205e",
   "metadata": {},
   "outputs": [
    {
     "data": {
      "text/plain": [
       "array([3, 8, 8, ..., 5, 1, 7], dtype=uint8)"
      ]
     },
     "execution_count": 10,
     "metadata": {},
     "output_type": "execute_result"
    }
   ],
   "source": [
    "y_test = y_test.reshape(-1,)\n",
    "y_test"
   ]
  },
  {
   "cell_type": "code",
   "execution_count": 11,
   "id": "ed2bf01b",
   "metadata": {},
   "outputs": [],
   "source": [
    "X_train = X_train / 255.0\n",
    "X_test = X_test / 255.0"
   ]
  },
  {
   "cell_type": "code",
   "execution_count": 12,
   "id": "0605c64a",
   "metadata": {},
   "outputs": [
    {
     "name": "stdout",
     "output_type": "stream",
     "text": [
      "Epoch 1/5\n",
      "1563/1563 [==============================] - 128s 80ms/step - loss: 1.8107 - accuracy: 0.3537\n",
      "Epoch 2/5\n",
      "1563/1563 [==============================] - 130s 83ms/step - loss: 1.6229 - accuracy: 0.4283\n",
      "Epoch 3/5\n",
      "1563/1563 [==============================] - 126s 80ms/step - loss: 1.5419 - accuracy: 0.4548\n",
      "Epoch 4/5\n",
      "1563/1563 [==============================] - 125s 80ms/step - loss: 1.4807 - accuracy: 0.4768\n",
      "Epoch 5/5\n",
      "1563/1563 [==============================] - 126s 80ms/step - loss: 1.4314 - accuracy: 0.4953\n"
     ]
    },
    {
     "data": {
      "text/plain": [
       "<keras.callbacks.History at 0x1f658b6d730>"
      ]
     },
     "execution_count": 12,
     "metadata": {},
     "output_type": "execute_result"
    }
   ],
   "source": [
    "ann = models.Sequential([\n",
    "        layers.Flatten(input_shape=(32,32,3)),\n",
    "        layers.Dense(3000, activation='relu'),\n",
    "        layers.Dense(1000, activation='relu'),\n",
    "        layers.Dense(10, activation='softmax')    \n",
    "    ])\n",
    "\n",
    "ann.compile(optimizer='SGD',\n",
    "              loss='sparse_categorical_crossentropy',\n",
    "              metrics=['accuracy'])\n",
    "\n",
    "ann.fit(X_train, y_train, epochs=5)"
   ]
  },
  {
   "cell_type": "code",
   "execution_count": 13,
   "id": "ec2cb6d1",
   "metadata": {},
   "outputs": [
    {
     "name": "stdout",
     "output_type": "stream",
     "text": [
      "Classification Report: \n",
      "               precision    recall  f1-score   support\n",
      "\n",
      "           0       0.63      0.49      0.55      1000\n",
      "           1       0.72      0.30      0.43      1000\n",
      "           2       0.50      0.19      0.28      1000\n",
      "           3       0.31      0.43      0.36      1000\n",
      "           4       0.53      0.26      0.35      1000\n",
      "           5       0.44      0.34      0.39      1000\n",
      "           6       0.46      0.66      0.55      1000\n",
      "           7       0.41      0.69      0.51      1000\n",
      "           8       0.81      0.29      0.43      1000\n",
      "           9       0.35      0.79      0.48      1000\n",
      "\n",
      "    accuracy                           0.45     10000\n",
      "   macro avg       0.52      0.45      0.43     10000\n",
      "weighted avg       0.52      0.45      0.43     10000\n",
      "\n"
     ]
    }
   ],
   "source": [
    "from sklearn.metrics import confusion_matrix , classification_report\n",
    "import numpy as np\n",
    "y_pred = ann.predict(X_test)\n",
    "y_pred_classes = [np.argmax(element) for element in y_pred]\n",
    "\n",
    "print(\"Classification Report: \\n\", classification_report(y_test, y_pred_classes))"
   ]
  },
  {
   "cell_type": "code",
   "execution_count": 15,
   "id": "6f64c827",
   "metadata": {},
   "outputs": [],
   "source": [
    "cnn = models.Sequential([\n",
    "    layers.Conv2D(filters=32, kernel_size=(3, 3), activation='relu', input_shape=(32, 32, 3)),\n",
    "    layers.MaxPooling2D((2, 2)),\n",
    "    \n",
    "    layers.Conv2D(filters=64, kernel_size=(3, 3), activation='relu'),\n",
    "    layers.MaxPooling2D((2, 2)),\n",
    "    \n",
    "    layers.Flatten(),\n",
    "    layers.Dense(64, activation='relu'),\n",
    "    layers.Dense(10, activation='softmax')\n",
    "    ])"
   ]
  },
  {
   "cell_type": "code",
   "execution_count": 16,
   "id": "a21f5993",
   "metadata": {},
   "outputs": [],
   "source": [
    "cnn.compile(optimizer='adam',\n",
    "              loss='sparse_categorical_crossentropy',\n",
    "              metrics=['accuracy'])"
   ]
  },
  {
   "cell_type": "code",
   "execution_count": 17,
   "id": "9ec15323",
   "metadata": {},
   "outputs": [
    {
     "name": "stdout",
     "output_type": "stream",
     "text": [
      "Epoch 1/10\n",
      "1563/1563 [==============================] - 60s 38ms/step - loss: 1.4608 - accuracy: 0.4771\n",
      "Epoch 2/10\n",
      "1563/1563 [==============================] - 58s 37ms/step - loss: 1.1143 - accuracy: 0.6111\n",
      "Epoch 3/10\n",
      "1563/1563 [==============================] - 57s 36ms/step - loss: 0.9914 - accuracy: 0.65561s - loss: 0.9 - ETA: 0s - loss: 0.9917 \n",
      "Epoch 4/10\n",
      "1563/1563 [==============================] - 54s 35ms/step - loss: 0.9194 - accuracy: 0.6806\n",
      "Epoch 5/10\n",
      "1563/1563 [==============================] - 49s 32ms/step - loss: 0.8593 - accuracy: 0.7024\n",
      "Epoch 6/10\n",
      "1563/1563 [==============================] - 48s 31ms/step - loss: 0.8116 - accuracy: 0.7168\n",
      "Epoch 7/10\n",
      "1563/1563 [==============================] - 46s 29ms/step - loss: 0.7615 - accuracy: 0.7375\n",
      "Epoch 8/10\n",
      "1563/1563 [==============================] - 42s 27ms/step - loss: 0.7262 - accuracy: 0.7466\n",
      "Epoch 9/10\n",
      "1563/1563 [==============================] - 45s 29ms/step - loss: 0.6877 - accuracy: 0.7608\n",
      "Epoch 10/10\n",
      "1563/1563 [==============================] - 43s 27ms/step - loss: 0.6585 - accuracy: 0.7713\n"
     ]
    },
    {
     "data": {
      "text/plain": [
       "<keras.callbacks.History at 0x1f658beb6d0>"
      ]
     },
     "execution_count": 17,
     "metadata": {},
     "output_type": "execute_result"
    }
   ],
   "source": [
    "cnn.fit(X_train, y_train, epochs=10)\n"
   ]
  },
  {
   "cell_type": "code",
   "execution_count": 18,
   "id": "617302b6",
   "metadata": {},
   "outputs": [
    {
     "name": "stdout",
     "output_type": "stream",
     "text": [
      "313/313 [==============================] - 3s 8ms/step - loss: 0.9095 - accuracy: 0.7004\n"
     ]
    },
    {
     "data": {
      "text/plain": [
       "[0.9094937443733215, 0.7003999948501587]"
      ]
     },
     "execution_count": 18,
     "metadata": {},
     "output_type": "execute_result"
    }
   ],
   "source": [
    "cnn.evaluate(X_test,y_test)"
   ]
  },
  {
   "cell_type": "code",
   "execution_count": 19,
   "id": "2061a574",
   "metadata": {},
   "outputs": [
    {
     "data": {
      "text/plain": [
       "array([[3.60108097e-04, 7.41649592e-06, 8.35975108e-04, 7.39026368e-01,\n",
       "        1.95913071e-05, 2.31981784e-01, 5.61265880e-03, 1.24165035e-05,\n",
       "        2.20799800e-02, 6.36149780e-05],\n",
       "       [1.73765291e-02, 1.25306407e-02, 3.00969054e-06, 5.29519584e-09,\n",
       "        5.79055701e-08, 5.96444560e-10, 1.05432507e-09, 3.35265171e-09,\n",
       "        9.69981551e-01, 1.08262619e-04],\n",
       "       [1.26478612e-01, 8.45190510e-02, 5.33395563e-04, 7.60303577e-04,\n",
       "        1.52162625e-03, 2.19988957e-04, 1.38018542e-04, 1.61107839e-03,\n",
       "        7.17330754e-01, 6.68871626e-02],\n",
       "       [4.61080402e-01, 1.35769765e-03, 5.88796288e-03, 2.19852035e-03,\n",
       "        2.97273602e-03, 5.08713383e-05, 4.53975699e-05, 1.42696153e-04,\n",
       "        5.26060402e-01, 2.03325995e-04],\n",
       "       [6.50042239e-07, 6.58328190e-06, 1.89165398e-02, 7.74871092e-03,\n",
       "        8.67769778e-01, 1.04584650e-03, 1.04461648e-01, 4.73849868e-05,\n",
       "        4.83334418e-07, 2.37853806e-06]], dtype=float32)"
      ]
     },
     "execution_count": 19,
     "metadata": {},
     "output_type": "execute_result"
    }
   ],
   "source": [
    "y_pred = cnn.predict(X_test)\n",
    "y_pred[:5]"
   ]
  },
  {
   "cell_type": "code",
   "execution_count": 20,
   "id": "f74826a5",
   "metadata": {},
   "outputs": [
    {
     "data": {
      "text/plain": [
       "[3, 8, 8, 8, 4]"
      ]
     },
     "execution_count": 20,
     "metadata": {},
     "output_type": "execute_result"
    }
   ],
   "source": [
    "\n",
    "y_classes = [np.argmax(element) for element in y_pred]\n",
    "y_classes[:5]"
   ]
  },
  {
   "cell_type": "code",
   "execution_count": 21,
   "id": "0b1e7deb",
   "metadata": {},
   "outputs": [
    {
     "data": {
      "text/plain": [
       "array([3, 8, 8, 0, 6], dtype=uint8)"
      ]
     },
     "execution_count": 21,
     "metadata": {},
     "output_type": "execute_result"
    }
   ],
   "source": [
    "y_test[:5]"
   ]
  },
  {
   "cell_type": "code",
   "execution_count": 25,
   "id": "a3618e3f",
   "metadata": {},
   "outputs": [],
   "source": [
    "classes = [\"airplane\",\"automobile\",\"bird\",\"cat\",\"deer\",\"dog\",\"frog\",\"horse\",\"ship\",\"truck\"]\n"
   ]
  },
  {
   "cell_type": "code",
   "execution_count": 26,
   "id": "59506d94",
   "metadata": {},
   "outputs": [],
   "source": [
    "def plot_sample(X, y, index):\n",
    "    plt.figure(figsize = (15,2))\n",
    "    plt.imshow(X[index])\n",
    "    plt.xlabel(classes[y[index]])"
   ]
  },
  {
   "cell_type": "code",
   "execution_count": 29,
   "id": "cf3ab80f",
   "metadata": {},
   "outputs": [
    {
     "data": {
      "image/png": "[encoded data removed]",
      "text/plain": [
       "<Figure size 1080x144 with 1 Axes>"
      ]
     },
     "metadata": {
      "needs_background": "light"
     },
     "output_type": "display_data"
    }
   ],
   "source": [
    "plot_sample(X_test, y_test,5)"
   ]
  },
  {
   "cell_type": "code",
   "execution_count": 30,
   "id": "4488cf5c",
   "metadata": {},
   "outputs": [
    {
     "data": {
      "text/plain": [
       "'frog'"
      ]
     },
     "execution_count": 30,
     "metadata": {},
     "output_type": "execute_result"
    }
   ],
   "source": [
    "classes[y_classes[5]]"
   ]
  },
  {
   "cell_type": "code",
   "execution_count": 31,
   "id": "5e075ea6",
   "metadata": {},
   "outputs": [
    {
     "data": {
      "image/png": "[encoded data removed]",
      "text/plain": [
       "<Figure size 1080x144 with 1 Axes>"
      ]
     },
     "metadata": {
      "needs_background": "light"
     },
     "output_type": "display_data"
    }
   ],
   "source": [
    "plot_sample(X_test, y_test,15)"
   ]
  },
  {
   "cell_type": "code",
   "execution_count": 32,
   "id": "b24a429f",
   "metadata": {},
   "outputs": [
    {
     "data": {
      "text/plain": [
       "'ship'"
      ]
     },
     "execution_count": 32,
     "metadata": {},
     "output_type": "execute_result"
    }
   ],
   "source": [
    "classes[y_classes[15]]"
   ]
  },
  {
   "cell_type": "code",
   "execution_count": null,
   "id": "6e2cf13f",
   "metadata": {},
   "outputs": [],
   "source": [
    "\n"
   ]
  }
 ],
 "metadata": {
  "kernelspec": {
   "display_name": "Python 3",
   "language": "python",
   "name": "python3"
  },
  "language_info": {
   "codemirror_mode": {
    "name": "ipython",
    "version": 3
   },
   "file_extension": ".py",
   "mimetype": "text/x-python",
   "name": "python",
   "nbconvert_exporter": "python",
   "pygments_lexer": "ipython3",
   "version": "3.8.8"
  }
 },
 "nbformat": 4,
 "nbformat_minor": 5
}
