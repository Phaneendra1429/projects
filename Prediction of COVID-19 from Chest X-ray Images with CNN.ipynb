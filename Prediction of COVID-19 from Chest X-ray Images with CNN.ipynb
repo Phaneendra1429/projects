{
 "cells": [
  {
   "cell_type": "code",
   "execution_count": 1,
   "id": "65d83378",
   "metadata": {},
   "outputs": [],
   "source": [
    "import tensorflow as tf"
   ]
  },
  {
   "cell_type": "code",
   "execution_count": 2,
   "id": "39571fef",
   "metadata": {},
   "outputs": [],
   "source": [
    "from keras.preprocessing.image import ImageDataGenerator"
   ]
  },
  {
   "cell_type": "code",
   "execution_count": 3,
   "id": "3b0cd1ae",
   "metadata": {},
   "outputs": [],
   "source": [
    "train_datagen = ImageDataGenerator(rescale = 1./255,\n",
    "                                   shear_range = 0.2,\n",
    "                                   zoom_range = 0.2,\n",
    "                                   horizontal_flip = True)"
   ]
  },
  {
   "cell_type": "code",
   "execution_count": 4,
   "id": "b8e4f4e9",
   "metadata": {},
   "outputs": [
    {
     "name": "stdout",
     "output_type": "stream",
     "text": [
      "Found 940 images belonging to 2 classes.\n"
     ]
    }
   ],
   "source": [
    "training_set = train_datagen.flow_from_directory('covid data/train',\n",
    "                                                 target_size = (64, 64),\n",
    "                                                 batch_size = 32,\n",
    "                                                 class_mode = 'binary')\n"
   ]
  },
  {
   "cell_type": "code",
   "execution_count": 5,
   "id": "008bc8bc",
   "metadata": {},
   "outputs": [
    {
     "name": "stdout",
     "output_type": "stream",
     "text": [
      "Found 459 images belonging to 2 classes.\n"
     ]
    }
   ],
   "source": [
    "test_datagen = ImageDataGenerator(rescale = 1./255)\n",
    "test_set = test_datagen.flow_from_directory('covid data/test',\n",
    "                                            target_size = (64, 64),\n",
    "                                            batch_size = 32,\n",
    "                                            class_mode = 'binary')"
   ]
  },
  {
   "cell_type": "code",
   "execution_count": 6,
   "id": "1b443e5b",
   "metadata": {},
   "outputs": [],
   "source": [
    "cnn = tf.keras.models.Sequential()"
   ]
  },
  {
   "cell_type": "code",
   "execution_count": 7,
   "id": "e39b5dac",
   "metadata": {},
   "outputs": [],
   "source": [
    "cnn.add(tf.keras.layers.Conv2D(filters=32, kernel_size=3, activation='relu', input_shape=[64, 64, 3]))"
   ]
  },
  {
   "cell_type": "code",
   "execution_count": 8,
   "id": "f0eb2655",
   "metadata": {},
   "outputs": [],
   "source": [
    "cnn.add(tf.keras.layers.MaxPool2D(pool_size=2, strides=2))"
   ]
  },
  {
   "cell_type": "code",
   "execution_count": 9,
   "id": "753f7a17",
   "metadata": {},
   "outputs": [],
   "source": [
    "cnn.add(tf.keras.layers.Conv2D(filters=32, kernel_size=3, activation='relu'))\n",
    "cnn.add(tf.keras.layers.MaxPool2D(pool_size=2, strides=2))"
   ]
  },
  {
   "cell_type": "code",
   "execution_count": 10,
   "id": "13971bb5",
   "metadata": {},
   "outputs": [],
   "source": [
    "cnn.add(tf.keras.layers.Flatten())"
   ]
  },
  {
   "cell_type": "code",
   "execution_count": 11,
   "id": "6dc01fa1",
   "metadata": {},
   "outputs": [],
   "source": [
    "cnn.add(tf.keras.layers.Dense(units=128, activation='relu'))"
   ]
  },
  {
   "cell_type": "code",
   "execution_count": 13,
   "id": "fa7d0714",
   "metadata": {},
   "outputs": [],
   "source": [
    "cnn.add(tf.keras.layers.Dense(units=1, activation='sigmoid'))"
   ]
  },
  {
   "cell_type": "code",
   "execution_count": 14,
   "id": "4673ced7",
   "metadata": {},
   "outputs": [],
   "source": [
    "cnn.compile(optimizer = 'adam', loss = 'binary_crossentropy', metrics = ['accuracy'])"
   ]
  },
  {
   "cell_type": "code",
   "execution_count": 15,
   "id": "8fedf7c2",
   "metadata": {},
   "outputs": [
    {
     "name": "stdout",
     "output_type": "stream",
     "text": [
      "Epoch 1/25\n",
      "30/30 [==============================] - 32s 1s/step - loss: 0.3114 - accuracy: 0.9128 - val_loss: 0.1667 - val_accuracy: 0.9804\n",
      "Epoch 2/25\n",
      "30/30 [==============================] - 15s 523ms/step - loss: 0.1788 - accuracy: 0.9362 - val_loss: 0.0494 - val_accuracy: 0.9826\n",
      "Epoch 3/25\n",
      "30/30 [==============================] - 16s 531ms/step - loss: 0.0839 - accuracy: 0.9628 - val_loss: 0.0315 - val_accuracy: 0.9869\n",
      "Epoch 4/25\n",
      "30/30 [==============================] - 15s 517ms/step - loss: 0.0805 - accuracy: 0.9723 - val_loss: 0.0246 - val_accuracy: 0.9935\n",
      "Epoch 5/25\n",
      "30/30 [==============================] - 15s 520ms/step - loss: 0.0884 - accuracy: 0.9660 - val_loss: 0.0182 - val_accuracy: 0.9935\n",
      "Epoch 6/25\n",
      "30/30 [==============================] - 15s 518ms/step - loss: 0.0691 - accuracy: 0.9798 - val_loss: 0.0201 - val_accuracy: 0.9935\n",
      "Epoch 7/25\n",
      "30/30 [==============================] - 16s 535ms/step - loss: 0.0543 - accuracy: 0.9809 - val_loss: 0.0206 - val_accuracy: 0.9935\n",
      "Epoch 8/25\n",
      "30/30 [==============================] - 16s 534ms/step - loss: 0.0456 - accuracy: 0.9777 - val_loss: 0.0254 - val_accuracy: 0.9913\n",
      "Epoch 9/25\n",
      "30/30 [==============================] - 20s 683ms/step - loss: 0.0414 - accuracy: 0.9819 - val_loss: 0.0140 - val_accuracy: 0.9956\n",
      "Epoch 10/25\n",
      "30/30 [==============================] - 27s 909ms/step - loss: 0.0377 - accuracy: 0.9851 - val_loss: 0.0384 - val_accuracy: 0.9913\n",
      "Epoch 11/25\n",
      "30/30 [==============================] - 35s 1s/step - loss: 0.0541 - accuracy: 0.9787 - val_loss: 0.0235 - val_accuracy: 0.9935\n",
      "Epoch 12/25\n",
      "30/30 [==============================] - 19s 639ms/step - loss: 0.0466 - accuracy: 0.9798 - val_loss: 0.0109 - val_accuracy: 0.9956\n",
      "Epoch 13/25\n",
      "30/30 [==============================] - 15s 524ms/step - loss: 0.0429 - accuracy: 0.9819 - val_loss: 0.0131 - val_accuracy: 0.9935\n",
      "Epoch 14/25\n",
      "30/30 [==============================] - 16s 551ms/step - loss: 0.0382 - accuracy: 0.9894 - val_loss: 0.0168 - val_accuracy: 0.9935\n",
      "Epoch 15/25\n",
      "30/30 [==============================] - 15s 521ms/step - loss: 0.0371 - accuracy: 0.9840 - val_loss: 0.0216 - val_accuracy: 0.9913\n",
      "Epoch 16/25\n",
      "30/30 [==============================] - 15s 516ms/step - loss: 0.0378 - accuracy: 0.9830 - val_loss: 0.0165 - val_accuracy: 0.9913\n",
      "Epoch 17/25\n",
      "30/30 [==============================] - 15s 517ms/step - loss: 0.0317 - accuracy: 0.9894 - val_loss: 0.0081 - val_accuracy: 0.9978\n",
      "Epoch 18/25\n",
      "30/30 [==============================] - 15s 528ms/step - loss: 0.0442 - accuracy: 0.9830 - val_loss: 0.0140 - val_accuracy: 0.9935\n",
      "Epoch 19/25\n",
      "30/30 [==============================] - 16s 530ms/step - loss: 0.0278 - accuracy: 0.9883 - val_loss: 0.0127 - val_accuracy: 0.9935\n",
      "Epoch 20/25\n",
      "30/30 [==============================] - 17s 577ms/step - loss: 0.0292 - accuracy: 0.9894 - val_loss: 0.0107 - val_accuracy: 0.9956\n",
      "Epoch 21/25\n",
      "30/30 [==============================] - 16s 543ms/step - loss: 0.0295 - accuracy: 0.9894 - val_loss: 0.0070 - val_accuracy: 0.9978\n",
      "Epoch 22/25\n",
      "30/30 [==============================] - 15s 522ms/step - loss: 0.0361 - accuracy: 0.9872 - val_loss: 0.0076 - val_accuracy: 0.9978\n",
      "Epoch 23/25\n",
      "30/30 [==============================] - 15s 513ms/step - loss: 0.0315 - accuracy: 0.9862 - val_loss: 0.0178 - val_accuracy: 0.9913\n",
      "Epoch 24/25\n",
      "30/30 [==============================] - 15s 516ms/step - loss: 0.0318 - accuracy: 0.9851 - val_loss: 0.0040 - val_accuracy: 1.0000\n",
      "Epoch 25/25\n",
      "30/30 [==============================] - 15s 512ms/step - loss: 0.0182 - accuracy: 0.9926 - val_loss: 0.0163 - val_accuracy: 0.9913\n"
     ]
    },
    {
     "data": {
      "text/plain": [
       "<keras.callbacks.History at 0x18c3db9a5b0>"
      ]
     },
     "execution_count": 15,
     "metadata": {},
     "output_type": "execute_result"
    }
   ],
   "source": [
    "cnn.fit(x = training_set, validation_data = test_set, epochs = 25)"
   ]
  },
  {
   "cell_type": "code",
   "execution_count": 20,
   "id": "12c821c4",
   "metadata": {},
   "outputs": [],
   "source": [
    "import numpy as np\n",
    "from keras.preprocessing import image\n",
    "test_image = image.load_img('covid data/prediction/3.jpeg',target_size = (64, 64))\n",
    "test_image = image.img_to_array(test_image)\n",
    "test_image = np.expand_dims(test_image, axis = 0)\n",
    "result = cnn.predict(test_image/255.0)\n",
    "training_set.class_indices\n",
    "if result[0][0] > 0.5:\n",
    "  prediction = 'Covid'\n",
    "else:\n",
    "  prediction = 'Normal'"
   ]
  },
  {
   "cell_type": "code",
   "execution_count": 21,
   "id": "8189554c",
   "metadata": {},
   "outputs": [
    {
     "name": "stdout",
     "output_type": "stream",
     "text": [
      "Covid\n"
     ]
    }
   ],
   "source": [
    "print(prediction)"
   ]
  },
  {
   "cell_type": "code",
   "execution_count": 27,
   "id": "61c5ca4c",
   "metadata": {},
   "outputs": [],
   "source": [
    "import numpy as np\n",
    "from keras.preprocessing import image\n",
    "test_image = image.load_img('covid data/prediction/53.jpeg',target_size = (64, 64))\n",
    "test_image = image.img_to_array(test_image)\n",
    "test_image = np.expand_dims(test_image, axis = 0)\n",
    "result = cnn.predict(test_image/255.0)\n",
    "training_set.class_indices\n",
    "if result[0][0] > 0.5:\n",
    "  prediction = 'Covid'\n",
    "else:\n",
    "  prediction = 'Normal'"
   ]
  },
  {
   "cell_type": "code",
   "execution_count": 28,
   "id": "d93f3135",
   "metadata": {},
   "outputs": [
    {
     "name": "stdout",
     "output_type": "stream",
     "text": [
      "Covid\n"
     ]
    }
   ],
   "source": [
    "print(prediction)"
   ]
  },
  {
   "cell_type": "code",
   "execution_count": null,
   "id": "3c0665e8",
   "metadata": {},
   "outputs": [],
   "source": []
  }
 ],
 "metadata": {
  "kernelspec": {
   "display_name": "Python 3",
   "language": "python",
   "name": "python3"
  },
  "language_info": {
   "codemirror_mode": {
    "name": "ipython",
    "version": 3
   },
   "file_extension": ".py",
   "mimetype": "text/x-python",
   "name": "python",
   "nbconvert_exporter": "python",
   "pygments_lexer": "ipython3",
   "version": "3.8.8"
  }
 },
 "nbformat": 4,
 "nbformat_minor": 5
}
